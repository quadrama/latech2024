{
 "cells": [
  {
   "cell_type": "markdown",
   "id": "a2618e07-0d04-4c14-b391-621d98234f9a",
   "metadata": {},
   "source": [
    "### Imports"
   ]
  },
  {
   "cell_type": "code",
   "execution_count": 24,
   "id": "28b48cb1",
   "metadata": {},
   "outputs": [],
   "source": [
    "import os\n",
    "import json\n",
    "import openai\n",
    "import pandas as pd"
   ]
  },
  {
   "cell_type": "code",
   "execution_count": 25,
   "id": "761ff417",
   "metadata": {},
   "outputs": [],
   "source": [
    "from langchain.chat_models import ChatOpenAI\n",
    "from langchain.prompts import ChatPromptTemplate"
   ]
  },
  {
   "cell_type": "code",
   "execution_count": 26,
   "id": "2bae7389",
   "metadata": {},
   "outputs": [],
   "source": [
    "os.environ[\"OPENAI_API_KEY\"] = os.getenv('MY_OPENAI')"
   ]
  },
  {
   "cell_type": "markdown",
   "id": "d52fe736-62a4-487c-8be9-332ad30a3217",
   "metadata": {},
   "source": [
    "### Loading Reference Data"
   ]
  },
  {
   "cell_type": "code",
   "execution_count": 27,
   "id": "1058efa9-5d01-4517-aa72-980fa7441787",
   "metadata": {},
   "outputs": [],
   "source": [
    "df = pd.read_csv(\"KnowledgeTransfers-one_sent.csv\")"
   ]
  },
  {
   "cell_type": "code",
   "execution_count": 28,
   "id": "9d065743-28ab-4d1a-a155-316892f9895e",
   "metadata": {},
   "outputs": [],
   "source": [
    "### Selecting all annotated cases of family relations\n",
    "df_fam = df[df.relation.isin([\"parent_of\", \"child_of\", \"siblings\", \"spouses\"])].copy(deep=True)"
   ]
  },
  {
   "cell_type": "code",
   "execution_count": 29,
   "id": "40feb743-f47a-4ba8-9059-0baf7d6d4df0",
   "metadata": {},
   "outputs": [],
   "source": [
    "df_fam.drop(columns=['annotationspan', 'annotation', 'source', 'attributes'], inplace=True)"
   ]
  },
  {
   "cell_type": "markdown",
   "id": "07764bad-efc1-4675-99f7-568cbfb73d7f",
   "metadata": {},
   "source": [
    "### Preparing Data for Entailment Task"
   ]
  },
  {
   "cell_type": "code",
   "execution_count": 30,
   "id": "818d812e-1541-4b34-b547-cc2b9af568fd",
   "metadata": {},
   "outputs": [],
   "source": [
    "df_know = df_fam.reset_index().copy(deep=True)"
   ]
  },
  {
   "cell_type": "code",
   "execution_count": 31,
   "id": "99c7ff96-a914-4275-9f11-9db35dbc781d",
   "metadata": {},
   "outputs": [],
   "source": [
    "prop = []\n",
    "entail = []\n",
    "for index, row in df_fam.iterrows():\n",
    "    text = row[\"relation\"]\n",
    "    person_1 = row[\"arg1\"]\n",
    "    person_2 = row[\"arg2\"]\n",
    "    if index % 2 == 0:\n",
    "        if \"parent_of\" in text:\n",
    "            sen = f\"{person_1} is the parent of {person_2}.\"\n",
    "            prop.append(sen)\n",
    "            entail.append(\"entail\")\n",
    "        elif \"child_of\" in text:\n",
    "            sen = f\"{person_1} is the child of {person_2}.\"\n",
    "            prop.append(sen)\n",
    "            entail.append(\"entail\")\n",
    "        elif \"siblings\" in text:\n",
    "            sen = f\"{person_1} and {person_2} are siblings.\"\n",
    "            prop.append(sen)\n",
    "            entail.append(\"entail\")\n",
    "        elif \"spouses\" in text:\n",
    "            sen = f\"{person_1} and {person_2} are spouses.\"\n",
    "            prop.append(sen)\n",
    "            entail.append(\"entail\")\n",
    "    else:\n",
    "        if \"parent_of\" in text:\n",
    "            sen = f\"{person_1} is not the parent of {person_2}.\"\n",
    "            prop.append(sen)\n",
    "            entail.append(\"not entail\")\n",
    "        elif \"child_of\" in text:\n",
    "            sen = f\"{person_1} is not the child of {person_2}.\"\n",
    "            prop.append(sen)\n",
    "            entail.append(\"not entail\")\n",
    "        elif \"siblings\" in text:\n",
    "            sen = f\"{person_1} and {person_2} are spouses.\"\n",
    "            prop.append(sen)\n",
    "            entail.append(\"not entail\")\n",
    "        elif \"spouses\" in text:\n",
    "            sen = f\"{person_1} and {person_2} are siblings.\"\n",
    "            prop.append(sen)\n",
    "            entail.append(\"not entail\")"
   ]
  },
  {
   "cell_type": "code",
   "execution_count": 32,
   "id": "28ca7c06-1cc5-44c8-9142-b82622224688",
   "metadata": {},
   "outputs": [],
   "source": [
    "props = pd.Series(prop)\n",
    "entails = pd.Series (entail)"
   ]
  },
  {
   "cell_type": "code",
   "execution_count": 33,
   "id": "a810d1a1-3909-4997-b3f1-1fa32cb18075",
   "metadata": {},
   "outputs": [],
   "source": [
    "df_know['proposition'] = props\n",
    "df_know['classification'] = entails"
   ]
  },
  {
   "cell_type": "code",
   "execution_count": 34,
   "id": "37bbd2b7-8aaf-4679-99c6-277972de989f",
   "metadata": {},
   "outputs": [
    {
     "data": {
      "text/plain": [
       "classification\n",
       "entail        50\n",
       "not entail    39\n",
       "Name: count, dtype: int64"
      ]
     },
     "execution_count": 34,
     "metadata": {},
     "output_type": "execute_result"
    }
   ],
   "source": [
    "df_know.classification.value_counts()"
   ]
  },
  {
   "cell_type": "code",
   "execution_count": 35,
   "id": "329becf9-aac1-4844-aa05-5e942312174f",
   "metadata": {},
   "outputs": [
    {
     "data": {
      "text/html": [
       "<div>\n",
       "<style scoped>\n",
       "    .dataframe tbody tr th:only-of-type {\n",
       "        vertical-align: middle;\n",
       "    }\n",
       "\n",
       "    .dataframe tbody tr th {\n",
       "        vertical-align: top;\n",
       "    }\n",
       "\n",
       "    .dataframe thead th {\n",
       "        text-align: right;\n",
       "    }\n",
       "</style>\n",
       "<table border=\"1\" class=\"dataframe\">\n",
       "  <thead>\n",
       "    <tr style=\"text-align: right;\">\n",
       "      <th></th>\n",
       "      <th>index</th>\n",
       "      <th>corpus</th>\n",
       "      <th>drama</th>\n",
       "      <th>context</th>\n",
       "      <th>target</th>\n",
       "      <th>relation</th>\n",
       "      <th>arg1</th>\n",
       "      <th>arg2</th>\n",
       "      <th>proposition</th>\n",
       "      <th>classification</th>\n",
       "    </tr>\n",
       "  </thead>\n",
       "  <tbody>\n",
       "    <tr>\n",
       "      <th>0</th>\n",
       "      <td>16</td>\n",
       "      <td>gdc</td>\n",
       "      <td>11f78.0</td>\n",
       "      <td>Mein Leben sollte Zu freiem Dienste dir gewidm...</td>\n",
       "      <td>audience</td>\n",
       "      <td>parent_of</td>\n",
       "      <td>PARENT 1[IPHIGENIE]</td>\n",
       "      <td>iphigenie</td>\n",
       "      <td>PARENT 1[IPHIGENIE] is the parent of iphigenie.</td>\n",
       "      <td>entail</td>\n",
       "    </tr>\n",
       "    <tr>\n",
       "      <th>1</th>\n",
       "      <td>18</td>\n",
       "      <td>gdc</td>\n",
       "      <td>11f78.0</td>\n",
       "      <td>Auch hab' ich stets auf dich gehofft und hoffe...</td>\n",
       "      <td>audience</td>\n",
       "      <td>child_of</td>\n",
       "      <td>diana</td>\n",
       "      <td>zeus</td>\n",
       "      <td>diana is the child of zeus.</td>\n",
       "      <td>entail</td>\n",
       "    </tr>\n",
       "    <tr>\n",
       "      <th>2</th>\n",
       "      <td>42</td>\n",
       "      <td>gdc</td>\n",
       "      <td>11f78.0</td>\n",
       "      <td>Das ist's, warum mein blutend Herz nicht heilt...</td>\n",
       "      <td>[audience, arkas]</td>\n",
       "      <td>parent_of</td>\n",
       "      <td>PARENT 2[IPHIGENIE]</td>\n",
       "      <td>iphigenie</td>\n",
       "      <td>PARENT 2[IPHIGENIE] is the parent of iphigenie.</td>\n",
       "      <td>entail</td>\n",
       "    </tr>\n",
       "    <tr>\n",
       "      <th>3</th>\n",
       "      <td>43</td>\n",
       "      <td>gdc</td>\n",
       "      <td>11f78.0</td>\n",
       "      <td>In erster Jugend, da sich kaum die Seele An V...</td>\n",
       "      <td>[audience, arkas]</td>\n",
       "      <td>siblings</td>\n",
       "      <td>SIBLINGS[IPHIGENIE]</td>\n",
       "      <td>iphigenie</td>\n",
       "      <td>SIBLINGS[IPHIGENIE] and iphigenie are spouses.</td>\n",
       "      <td>not entail</td>\n",
       "    </tr>\n",
       "    <tr>\n",
       "      <th>4</th>\n",
       "      <td>226</td>\n",
       "      <td>gdc</td>\n",
       "      <td>11f78.0</td>\n",
       "      <td>Ruhig herrschte Der König, und es war dem Haus...</td>\n",
       "      <td>[audience, thoas]</td>\n",
       "      <td>siblings</td>\n",
       "      <td>iphigenie</td>\n",
       "      <td>orest</td>\n",
       "      <td>iphigenie and orest are siblings.</td>\n",
       "      <td>entail</td>\n",
       "    </tr>\n",
       "    <tr>\n",
       "      <th>5</th>\n",
       "      <td>318</td>\n",
       "      <td>gdc</td>\n",
       "      <td>11f78.0</td>\n",
       "      <td>Es ist der Weg des Todes, den wir treten: Mit ...</td>\n",
       "      <td>audience</td>\n",
       "      <td>siblings</td>\n",
       "      <td>diana</td>\n",
       "      <td>apollo</td>\n",
       "      <td>diana and apollo are siblings.</td>\n",
       "      <td>entail</td>\n",
       "    </tr>\n",
       "    <tr>\n",
       "      <th>6</th>\n",
       "      <td>1189</td>\n",
       "      <td>gdc</td>\n",
       "      <td>11f78.0</td>\n",
       "      <td>– Ja, vernimm, o König, Es wird ein heimlicher...</td>\n",
       "      <td>thoas</td>\n",
       "      <td>siblings</td>\n",
       "      <td>iphigenie</td>\n",
       "      <td>orest</td>\n",
       "      <td>iphigenie and orest are spouses.</td>\n",
       "      <td>not entail</td>\n",
       "    </tr>\n",
       "    <tr>\n",
       "      <th>7</th>\n",
       "      <td>1481</td>\n",
       "      <td>gdc</td>\n",
       "      <td>11f81.0</td>\n",
       "      <td>MARIE. Daß unser Bruder nicht kommt! Es sind z...</td>\n",
       "      <td>audience</td>\n",
       "      <td>siblings</td>\n",
       "      <td>BROTHER[MARIE]</td>\n",
       "      <td>[marie, sophie]</td>\n",
       "      <td>BROTHER[MARIE] and [marie, sophie] are spouses.</td>\n",
       "      <td>not entail</td>\n",
       "    </tr>\n",
       "    <tr>\n",
       "      <th>8</th>\n",
       "      <td>1758</td>\n",
       "      <td>gdc</td>\n",
       "      <td>11f81.0</td>\n",
       "      <td>In der Tiefe ihres Jammers schreibt die Ältest...</td>\n",
       "      <td>clavigo</td>\n",
       "      <td>siblings</td>\n",
       "      <td>marie</td>\n",
       "      <td>beaumarchais</td>\n",
       "      <td>marie and beaumarchais are siblings.</td>\n",
       "      <td>entail</td>\n",
       "    </tr>\n",
       "    <tr>\n",
       "      <th>9</th>\n",
       "      <td>3273</td>\n",
       "      <td>gdc</td>\n",
       "      <td>11g3h.0</td>\n",
       "      <td>Hast du je Sie denn gefühlt? Verkümmerte dir n...</td>\n",
       "      <td>audience</td>\n",
       "      <td>child_of</td>\n",
       "      <td>CHILD 1[HERZOG]</td>\n",
       "      <td>herzog</td>\n",
       "      <td>CHILD 1[HERZOG] is not the child of herzog.</td>\n",
       "      <td>not entail</td>\n",
       "    </tr>\n",
       "  </tbody>\n",
       "</table>\n",
       "</div>"
      ],
      "text/plain": [
       "   index corpus    drama                                            context  \\\n",
       "0     16    gdc  11f78.0  Mein Leben sollte Zu freiem Dienste dir gewidm...   \n",
       "1     18    gdc  11f78.0  Auch hab' ich stets auf dich gehofft und hoffe...   \n",
       "2     42    gdc  11f78.0  Das ist's, warum mein blutend Herz nicht heilt...   \n",
       "3     43    gdc  11f78.0   In erster Jugend, da sich kaum die Seele An V...   \n",
       "4    226    gdc  11f78.0  Ruhig herrschte Der König, und es war dem Haus...   \n",
       "5    318    gdc  11f78.0  Es ist der Weg des Todes, den wir treten: Mit ...   \n",
       "6   1189    gdc  11f78.0  – Ja, vernimm, o König, Es wird ein heimlicher...   \n",
       "7   1481    gdc  11f81.0  MARIE. Daß unser Bruder nicht kommt! Es sind z...   \n",
       "8   1758    gdc  11f81.0  In der Tiefe ihres Jammers schreibt die Ältest...   \n",
       "9   3273    gdc  11g3h.0  Hast du je Sie denn gefühlt? Verkümmerte dir n...   \n",
       "\n",
       "              target   relation                 arg1             arg2  \\\n",
       "0           audience  parent_of  PARENT 1[IPHIGENIE]        iphigenie   \n",
       "1           audience   child_of                diana             zeus   \n",
       "2  [audience, arkas]  parent_of  PARENT 2[IPHIGENIE]        iphigenie   \n",
       "3  [audience, arkas]   siblings  SIBLINGS[IPHIGENIE]        iphigenie   \n",
       "4  [audience, thoas]   siblings            iphigenie            orest   \n",
       "5           audience   siblings                diana           apollo   \n",
       "6              thoas   siblings            iphigenie            orest   \n",
       "7           audience   siblings       BROTHER[MARIE]  [marie, sophie]   \n",
       "8            clavigo   siblings                marie     beaumarchais   \n",
       "9           audience   child_of      CHILD 1[HERZOG]           herzog   \n",
       "\n",
       "                                       proposition classification  \n",
       "0  PARENT 1[IPHIGENIE] is the parent of iphigenie.         entail  \n",
       "1                      diana is the child of zeus.         entail  \n",
       "2  PARENT 2[IPHIGENIE] is the parent of iphigenie.         entail  \n",
       "3   SIBLINGS[IPHIGENIE] and iphigenie are spouses.     not entail  \n",
       "4                iphigenie and orest are siblings.         entail  \n",
       "5                   diana and apollo are siblings.         entail  \n",
       "6                 iphigenie and orest are spouses.     not entail  \n",
       "7  BROTHER[MARIE] and [marie, sophie] are spouses.     not entail  \n",
       "8             marie and beaumarchais are siblings.         entail  \n",
       "9      CHILD 1[HERZOG] is not the child of herzog.     not entail  "
      ]
     },
     "execution_count": 35,
     "metadata": {},
     "output_type": "execute_result"
    }
   ],
   "source": [
    "df_know.head(10)"
   ]
  },
  {
   "cell_type": "markdown",
   "id": "10d5f692-bdb6-40e6-ae73-c9a2a1099b1b",
   "metadata": {},
   "source": [
    "### Prompt Templates"
   ]
  },
  {
   "cell_type": "code",
   "execution_count": null,
   "id": "0eebc128-eb48-40b4-9c32-9183288594be",
   "metadata": {},
   "outputs": [],
   "source": [
    "### With this prompt template, we achieved an weigthed F1 score of 0.50 and an accuracy of 0.56\n",
    "\n",
    "prompt_template = \"\"\"\n",
    "  A text T textually entails a proposition P, iff typically, a human would be justified in reasoning from the propositions expressed by T to the proposition expressed by H.\n",
    "  ###\n",
    "  Is the {proposition} entailed by the following piece of German {text}?\n",
    "  Take your time to think.\n",
    "  Answer with:\n",
    "  a.) Yes, the proposition is entailed by the given text.\n",
    "  b.) No, the proposition is not entailed by the given text.\n",
    "  ###\n",
    "  Your answer:\n",
    "  \"\"\""
   ]
  },
  {
   "cell_type": "code",
   "execution_count": 36,
   "id": "40856315-7ec7-44c9-91a8-7e7cdba2eca6",
   "metadata": {},
   "outputs": [],
   "source": [
    "### With this prompt template, we achieved an weighted F1 score of 0.50 and an accuracy of 0.56\n",
    "\n",
    "prompt_template_2 = \"\"\"\n",
    "Common sense reasoning exam\n",
    "###\n",
    "Explain your reasoning in detail than answer with \"Yes, the proposition is entailed by the given text\" or \"No, the proposition is not entailed by the given text\".\n",
    "Your answer should follow this 4-line format:\n",
    "\n",
    "Premise: <some sentences from a German play>.\n",
    "Question: <question requiring logical deduction>.\n",
    "Reasoning: <an explanation of what you understand about the possible scenarios>.\n",
    "Answer: <\"Yes, the proposition is entailed by the given text\" or \"No, the proposition is not entailed by the given text\">.\n",
    "\n",
    "###\n",
    "Premise: German {text}\n",
    "Question: {proposition}\n",
    "Reasoning: Let's think logically step by step.\n",
    "Answer:\n",
    "\"\"\""
   ]
  },
  {
   "cell_type": "code",
   "execution_count": 37,
   "id": "c8cdb2e8-364d-4137-a3e3-c15e14cebfff",
   "metadata": {},
   "outputs": [],
   "source": [
    "# Function to check entailment using GPT-4\n",
    "def entail_with_gpt4(text, proposition):\n",
    "    prompt = ChatPromptTemplate.from_template(template=prompt_template_2)\n",
    "    messages = prompt.format_messages(text=text, proposition=proposition)\n",
    "    chat = ChatOpenAI(temperature=0.0, model=\"gpt-4\")\n",
    "    response = chat(messages)\n",
    "    #print(response.content)\n",
    "    res = response.content\n",
    "    #print(res)\n",
    "    return res"
   ]
  },
  {
   "cell_type": "code",
   "execution_count": 38,
   "id": "dbf74b4c-e6d6-4a09-96f2-b7d3fb2d2e51",
   "metadata": {},
   "outputs": [],
   "source": [
    "# Inference\n",
    "results = []\n",
    "for index, row in df_know.iterrows():\n",
    "    proposition = row['proposition']\n",
    "    text = row['context']\n",
    "    res = entail_with_gpt4(text, proposition)\n",
    "    results.append(res)"
   ]
  },
  {
   "cell_type": "code",
   "execution_count": 39,
   "id": "e0b663ed-79a4-4ee8-b025-f6bda7bcea23",
   "metadata": {},
   "outputs": [],
   "source": [
    "pred = []\n",
    "for i in results:\n",
    "    if \"Yes, the proposition is entailed\" in i:\n",
    "        pred.append(\"entail\")\n",
    "    else:\n",
    "        pred.append(\"not entail\")"
   ]
  },
  {
   "cell_type": "code",
   "execution_count": 40,
   "id": "e5bebc05-3ba6-4590-be45-39cffbe6d6f1",
   "metadata": {},
   "outputs": [],
   "source": [
    "results_se = pd.Series(pred)"
   ]
  },
  {
   "cell_type": "code",
   "execution_count": 41,
   "id": "29c710dd-a45c-4ad5-97af-42bb0af6ad53",
   "metadata": {},
   "outputs": [
    {
     "data": {
      "text/plain": [
       "not entail    76\n",
       "entail        13\n",
       "Name: count, dtype: int64"
      ]
     },
     "execution_count": 41,
     "metadata": {},
     "output_type": "execute_result"
    }
   ],
   "source": [
    "results_se.value_counts()"
   ]
  },
  {
   "cell_type": "markdown",
   "id": "7c270140-8955-4113-803c-e50b80df0261",
   "metadata": {},
   "source": [
    "### Evaluation of Output"
   ]
  },
  {
   "cell_type": "code",
   "execution_count": 42,
   "id": "1b81cdd0-e5fb-49fe-84eb-caa76f06de62",
   "metadata": {},
   "outputs": [],
   "source": [
    "ground_truth = df_know.classification\n",
    "predictions = results_se"
   ]
  },
  {
   "cell_type": "code",
   "execution_count": 43,
   "id": "2cdf6dc8-6d57-4e90-beba-83680d177959",
   "metadata": {},
   "outputs": [],
   "source": [
    "from sklearn.metrics import f1_score\n",
    "from sklearn.metrics import accuracy_score\n",
    "from sklearn.metrics import recall_score\n",
    "from sklearn.metrics import precision_score"
   ]
  },
  {
   "cell_type": "code",
   "execution_count": 44,
   "id": "f68f1ac4-2ba9-43b1-806e-37d453e9dc7f",
   "metadata": {},
   "outputs": [],
   "source": [
    "from sklearn.metrics import precision_recall_fscore_support\n",
    "from sklearn.metrics import classification_report"
   ]
  },
  {
   "cell_type": "code",
   "execution_count": 45,
   "id": "22e342b5-1146-45c0-b4d6-917ab9a4bfa5",
   "metadata": {},
   "outputs": [
    {
     "name": "stdout",
     "output_type": "stream",
     "text": [
      "              precision    recall  f1-score   support\n",
      "\n",
      "      entail       0.92      0.24      0.38        50\n",
      "   no entail       0.50      0.97      0.66        39\n",
      "\n",
      "    accuracy                           0.56        89\n",
      "   macro avg       0.71      0.61      0.52        89\n",
      "weighted avg       0.74      0.56      0.50        89\n",
      "\n"
     ]
    }
   ],
   "source": [
    "target_names = ['entail', 'no entail']\n",
    "print(classification_report(ground_truth, predictions, target_names=target_names))"
   ]
  },
  {
   "cell_type": "code",
   "execution_count": 46,
   "id": "3bfc1062-83ca-4389-8928-af4902409188",
   "metadata": {},
   "outputs": [
    {
     "data": {
      "text/html": [
       "<div>\n",
       "<style scoped>\n",
       "    .dataframe tbody tr th:only-of-type {\n",
       "        vertical-align: middle;\n",
       "    }\n",
       "\n",
       "    .dataframe tbody tr th {\n",
       "        vertical-align: top;\n",
       "    }\n",
       "\n",
       "    .dataframe thead th {\n",
       "        text-align: right;\n",
       "    }\n",
       "</style>\n",
       "<table border=\"1\" class=\"dataframe\">\n",
       "  <thead>\n",
       "    <tr style=\"text-align: right;\">\n",
       "      <th></th>\n",
       "      <th>F1</th>\n",
       "      <th>Recall</th>\n",
       "      <th>Precision</th>\n",
       "      <th>Accuracy</th>\n",
       "    </tr>\n",
       "  </thead>\n",
       "  <tbody>\n",
       "    <tr>\n",
       "      <th>0</th>\n",
       "      <td>0.503613</td>\n",
       "      <td>0.561798</td>\n",
       "      <td>0.737684</td>\n",
       "      <td>0.561798</td>\n",
       "    </tr>\n",
       "  </tbody>\n",
       "</table>\n",
       "</div>"
      ],
      "text/plain": [
       "         F1    Recall  Precision  Accuracy\n",
       "0  0.503613  0.561798   0.737684  0.561798"
      ]
     },
     "execution_count": 46,
     "metadata": {},
     "output_type": "execute_result"
    }
   ],
   "source": [
    "pd.DataFrame(list(zip([f1_score(ground_truth, predictions, average=\"weighted\")],\n",
    "                      [recall_score(ground_truth, predictions,  average=\"weighted\")],\n",
    "                      [precision_score(ground_truth, predictions, average=\"weighted\")],\n",
    "                      [accuracy_score(ground_truth, predictions,)])),\n",
    "                      columns = [\"F1\", \"Recall\", \"Precision\", \"Accuracy\"])"
   ]
  }
 ],
 "metadata": {
  "kernelspec": {
   "display_name": "Python 3 (ipykernel)",
   "language": "python",
   "name": "python3"
  },
  "language_info": {
   "codemirror_mode": {
    "name": "ipython",
    "version": 3
   },
   "file_extension": ".py",
   "mimetype": "text/x-python",
   "name": "python",
   "nbconvert_exporter": "python",
   "pygments_lexer": "ipython3",
   "version": "3.10.1"
  }
 },
 "nbformat": 4,
 "nbformat_minor": 5
}
