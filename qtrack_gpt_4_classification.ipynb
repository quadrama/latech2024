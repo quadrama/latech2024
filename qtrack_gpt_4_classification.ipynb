{
 "cells": [
  {
   "cell_type": "markdown",
   "id": "7299af20-ab35-4231-a001-eb60e4659675",
   "metadata": {},
   "source": [
    "### Import"
   ]
  },
  {
   "cell_type": "code",
   "execution_count": 1,
   "id": "e8851044-9ffe-42fc-b658-2ba54a4ce18b",
   "metadata": {},
   "outputs": [],
   "source": [
    "import os\n",
    "import json\n",
    "import openai\n",
    "import pandas as pd\n",
    "from langchain.llms import OpenAI\n",
    "from langchain.chat_models import ChatOpenAI\n",
    "#from langchain import PromptTemplate, LLMChain\n",
    "from langchain.prompts import ChatPromptTemplate"
   ]
  },
  {
   "cell_type": "code",
   "execution_count": 2,
   "id": "3f5dc80b-d540-4669-9618-ec63cd9b44f4",
   "metadata": {},
   "outputs": [],
   "source": [
    "os.environ[\"OPENAI_API_KEY\"] = os.getenv('MY_OPENAI')"
   ]
  },
  {
   "cell_type": "code",
   "execution_count": 3,
   "id": "909e0678-7048-41f6-94e1-5e984fac8da5",
   "metadata": {},
   "outputs": [],
   "source": [
    "from langchain.output_parsers import ResponseSchema\n",
    "from langchain.output_parsers import StructuredOutputParser\n",
    "from langchain.output_parsers import CommaSeparatedListOutputParser"
   ]
  },
  {
   "cell_type": "markdown",
   "id": "fca8dc57-9a06-40b9-a702-b1329e091a3a",
   "metadata": {},
   "source": [
    "### Loading Referecne Data"
   ]
  },
  {
   "cell_type": "code",
   "execution_count": 4,
   "id": "1dc0a6b9-6342-4d2b-bfc4-2cf1edeae571",
   "metadata": {},
   "outputs": [],
   "source": [
    "df_two = pd.read_csv(\"KnowledgeTransfers-two_sent.csv\")"
   ]
  },
  {
   "cell_type": "code",
   "execution_count": 5,
   "id": "605aeef2-fab9-4e8c-9379-073a535fbe88",
   "metadata": {},
   "outputs": [],
   "source": [
    "### Selecting all annotated cases of family relations\n",
    "df_fam_two = df_two[df_two.relation.isin([\"parent_of\", \"child_of\", \"siblings\", \"spouses\"])].copy(deep=True)\n",
    "df_fam_two.reset_index(drop=True, inplace=True)"
   ]
  },
  {
   "cell_type": "code",
   "execution_count": 6,
   "id": "fae8efaf-a125-4e15-9fb1-3d8304662d9a",
   "metadata": {},
   "outputs": [],
   "source": [
    "df_fam_two.drop([11, 19, 20, 22], inplace=True)\n",
    "df_fam_two.reset_index(drop=True, inplace=True)"
   ]
  },
  {
   "cell_type": "code",
   "execution_count": 7,
   "id": "f1eebc97-e243-45ed-92b9-b282cab30930",
   "metadata": {},
   "outputs": [
    {
     "data": {
      "text/plain": [
       "(85, 11)"
      ]
     },
     "execution_count": 7,
     "metadata": {},
     "output_type": "execute_result"
    }
   ],
   "source": [
    "df_fam_two.shape"
   ]
  },
  {
   "cell_type": "code",
   "execution_count": 8,
   "id": "83416cd1-1050-401a-a683-79f6b8104e96",
   "metadata": {},
   "outputs": [],
   "source": [
    "df_test = df_fam_two[:14].copy(deep=True)"
   ]
  },
  {
   "cell_type": "markdown",
   "id": "6143ec26-f4f4-40fc-b6f3-511c80090652",
   "metadata": {},
   "source": [
    "### Prompt Template and Inference Function"
   ]
  },
  {
   "cell_type": "code",
   "execution_count": 9,
   "id": "07bf84d9-9c79-4af6-8f66-a7046693033d",
   "metadata": {},
   "outputs": [],
   "source": [
    "temp_info = \"\"\"\n",
    "You are a literary scholar. \n",
    "What kind of family relationship between {person_1} and {person_2} is conveyed in the following german piece of text.\n",
    "###\n",
    "German piece of text: {drama_snippet}\n",
    "###\n",
    "Choose one of \"parent_of\", child_of\", \"siblings\", \"spouses\".\n",
    "JUST name the label without quotation marks and nothing else!\n",
    "Family relation:\n",
    "\"\"\""
   ]
  },
  {
   "cell_type": "code",
   "execution_count": 10,
   "id": "38086216-9b94-47a5-b11d-4befc9a4861b",
   "metadata": {},
   "outputs": [],
   "source": [
    "def chaining(person_1, person_2, snippet):\n",
    "    prompt = ChatPromptTemplate.from_template(template=temp_info)\n",
    "    messages = prompt.format_messages(person_1=person_1, person_2=person_2, drama_snippet=snippet \n",
    "                                #format_instructions=formated\n",
    "                                     )\n",
    "    chat = ChatOpenAI(temperature=0.0, model=\"gpt-4\")\n",
    "    response = chat(messages)\n",
    "    #print(response.content)\n",
    "    data = response.content\n",
    "    return data"
   ]
  },
  {
   "cell_type": "markdown",
   "id": "655df086-467c-42be-a37a-0fe876ead4ae",
   "metadata": {},
   "source": [
    "### Inference"
   ]
  },
  {
   "cell_type": "code",
   "execution_count": 11,
   "id": "0ef898da-320b-444e-bfea-f03eb91e336d",
   "metadata": {},
   "outputs": [
    {
     "name": "stdout",
     "output_type": "stream",
     "text": [
      "child_of\n",
      "child_of\n",
      "child_of\n",
      "siblings\n",
      "siblings\n",
      "siblings\n",
      "siblings\n",
      "siblings\n",
      "siblings\n",
      "parent_of\n",
      "parent_of\n",
      "spouses\n",
      "spouses\n",
      "parent_of\n",
      "spouses\n",
      "siblings\n",
      "siblings\n",
      "parent_of\n",
      "parent_of\n",
      "parent_of\n",
      "siblings\n",
      "siblings\n",
      "parent_of\n",
      "spouses\n",
      "siblings\n",
      "siblings\n",
      "parent_of\n",
      "parent_of\n",
      "parent_of\n",
      "siblings\n",
      "siblings\n",
      "parent_of\n",
      "parent_of\n",
      "siblings\n",
      "siblings\n",
      "child_of\n",
      "siblings\n",
      "spouses\n",
      "child_of\n",
      "siblings\n",
      "parent_of\n",
      "spouses\n",
      "parent_of\n",
      "parent_of\n",
      "child_of\n",
      "parent_of\n",
      "parent_of\n",
      "parent_of\n",
      "parent_of\n",
      "parent_of\n",
      "parent_of\n",
      "child_of\n",
      "parent_of\n",
      "child_of\n",
      "parent_of\n",
      "child_of\n",
      "siblings\n",
      "siblings\n",
      "spouses\n",
      "parent_of\n",
      "siblings\n",
      "siblings\n",
      "siblings\n",
      "siblings\n",
      "spouses\n",
      "parent_of\n",
      "child_of\n",
      "spouses\n",
      "The text does not provide information about the family relationship between Karl and Lucie.\n",
      "parent_of\n",
      "siblings\n",
      "siblings\n",
      "parent_of\n",
      "child_of\n",
      "parent_of\n",
      "parent_of\n",
      "parent_of\n",
      "parent_of\n",
      "siblings\n",
      "child_of\n",
      "siblings\n",
      "child_of\n",
      "spouses\n",
      "parent_of\n",
      "parent_of\n"
     ]
    }
   ],
   "source": [
    "results = []\n",
    "for index, row in df_fam_two.iterrows():\n",
    "    person_1 = row[\"arg1\"]\n",
    "    person_2 = row[\"arg2\"]\n",
    "    snippet = row[\"context\"]\n",
    "    temp_info\n",
    "    data = chaining(person_1, person_2, snippet)\n",
    "    results.append(data)"
   ]
  },
  {
   "cell_type": "markdown",
   "id": "731e698a-9cbb-4890-8ed6-010cf85131dd",
   "metadata": {},
   "source": [
    "### Evaluation"
   ]
  },
  {
   "cell_type": "code",
   "execution_count": 12,
   "id": "bcb32a05-f269-4245-9d92-e8f1ab70fc7a",
   "metadata": {},
   "outputs": [],
   "source": [
    "from sklearn.metrics import f1_score\n",
    "from sklearn.metrics import accuracy_score\n",
    "from sklearn.metrics import recall_score\n",
    "from sklearn.metrics import precision_score"
   ]
  },
  {
   "cell_type": "code",
   "execution_count": 13,
   "id": "ab3ae4b6-60b9-4829-ac6c-c9d6435088d8",
   "metadata": {},
   "outputs": [],
   "source": [
    "results_se = pd.Series(results)"
   ]
  },
  {
   "cell_type": "code",
   "execution_count": 14,
   "id": "f15d49ea-3fd5-4d61-8f95-17e052de2cd2",
   "metadata": {},
   "outputs": [],
   "source": [
    "ground_truth = df_fam_two.relation\n",
    "predictions = results_se"
   ]
  },
  {
   "cell_type": "code",
   "execution_count": 15,
   "id": "f5041d28-4978-4e41-8632-86aaf536a638",
   "metadata": {},
   "outputs": [
    {
     "name": "stderr",
     "output_type": "stream",
     "text": [
      "/Library/Frameworks/Python.framework/Versions/3.10/lib/python3.10/site-packages/sklearn/metrics/_classification.py:1344: UndefinedMetricWarning: Recall is ill-defined and being set to 0.0 in labels with no true samples. Use `zero_division` parameter to control this behavior.\n",
      "  _warn_prf(average, modifier, msg_start, len(result))\n"
     ]
    },
    {
     "data": {
      "text/html": [
       "<div>\n",
       "<style scoped>\n",
       "    .dataframe tbody tr th:only-of-type {\n",
       "        vertical-align: middle;\n",
       "    }\n",
       "\n",
       "    .dataframe tbody tr th {\n",
       "        vertical-align: top;\n",
       "    }\n",
       "\n",
       "    .dataframe thead th {\n",
       "        text-align: right;\n",
       "    }\n",
       "</style>\n",
       "<table border=\"1\" class=\"dataframe\">\n",
       "  <thead>\n",
       "    <tr style=\"text-align: right;\">\n",
       "      <th></th>\n",
       "      <th>F1</th>\n",
       "      <th>Recall</th>\n",
       "      <th>Precision</th>\n",
       "      <th>Accuracy</th>\n",
       "    </tr>\n",
       "  </thead>\n",
       "  <tbody>\n",
       "    <tr>\n",
       "      <th>0</th>\n",
       "      <td>0.520939</td>\n",
       "      <td>0.552941</td>\n",
       "      <td>0.507624</td>\n",
       "      <td>0.552941</td>\n",
       "    </tr>\n",
       "  </tbody>\n",
       "</table>\n",
       "</div>"
      ],
      "text/plain": [
       "         F1    Recall  Precision  Accuracy\n",
       "0  0.520939  0.552941   0.507624  0.552941"
      ]
     },
     "execution_count": 15,
     "metadata": {},
     "output_type": "execute_result"
    }
   ],
   "source": [
    "pd.DataFrame(list(zip([f1_score(ground_truth, predictions, average=\"weighted\")],\n",
    "                      [recall_score(ground_truth, predictions,  average=\"weighted\")],\n",
    "                      [precision_score(ground_truth, predictions, average=\"weighted\")],\n",
    "                      [accuracy_score(ground_truth, predictions,)])),\n",
    "                      columns = [\"F1\", \"Recall\", \"Precision\", \"Accuracy\"])"
   ]
  }
 ],
 "metadata": {
  "kernelspec": {
   "display_name": "Python 3 (ipykernel)",
   "language": "python",
   "name": "python3"
  },
  "language_info": {
   "codemirror_mode": {
    "name": "ipython",
    "version": 3
   },
   "file_extension": ".py",
   "mimetype": "text/x-python",
   "name": "python",
   "nbconvert_exporter": "python",
   "pygments_lexer": "ipython3",
   "version": "3.10.1"
  }
 },
 "nbformat": 4,
 "nbformat_minor": 5
}
